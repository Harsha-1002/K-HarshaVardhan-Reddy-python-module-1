{
  "nbformat": 4,
  "nbformat_minor": 0,
  "metadata": {
    "colab": {
      "name": "Copy of Untitled0.ipynb",
      "provenance": [],
      "authorship_tag": "ABX9TyNocWFgy6xBYnHVM28lDjUB",
      "include_colab_link": true
    },
    "kernelspec": {
      "name": "python3",
      "display_name": "Python 3"
    }
  },
  "cells": [
    {
      "cell_type": "markdown",
      "metadata": {
        "id": "view-in-github",
        "colab_type": "text"
      },
      "source": [
        "<a href=\"https://colab.research.google.com/github/Harsha-1002/K-HarshaVardhan-Reddy-python-module-1/blob/master/Copy_of_Untitled0.ipynb\" target=\"_parent\"><img src=\"https://colab.research.google.com/assets/colab-badge.svg\" alt=\"Open In Colab\"/></a>"
      ]
    },
    {
      "cell_type": "code",
      "metadata": {
        "id": "9e-xgUrrdnT1",
        "colab_type": "code",
        "colab": {}
      },
      "source": [
        "Question no:2 to calculate simple interest"
      ],
      "execution_count": null,
      "outputs": []
    },
    {
      "cell_type": "code",
      "metadata": {
        "id": "qzsHHeYWeOP6",
        "colab_type": "code",
        "colab": {
          "base_uri": "https://localhost:8080/",
          "height": 90
        },
        "outputId": "f4318b52-6aa4-4023-9fa1-e6bdde32a726"
      },
      "source": [
        " P=int(input('enter value of P:'))\n",
        "T=int(input('enter value of T:'))\n",
        "R=int(input('enter value of R:'))\n",
        "print('simple intrest is:',((P*T*R)/100))"
      ],
      "execution_count": null,
      "outputs": [
        {
          "output_type": "stream",
          "text": [
            "enter value of P:2\n",
            "enter value of T:4\n",
            "enter value of R:6\n",
            "simple intrest is: 0.48\n"
          ],
          "name": "stdout"
        }
      ]
    },
    {
      "cell_type": "code",
      "metadata": {
        "id": "rowC__xZf1GD",
        "colab_type": "code",
        "colab": {}
      },
      "source": [
        "Question no:3 Calculate area of circle"
      ],
      "execution_count": null,
      "outputs": []
    },
    {
      "cell_type": "code",
      "metadata": {
        "id": "1j5PPzdIgXPn",
        "colab_type": "code",
        "colab": {
          "base_uri": "https://localhost:8080/",
          "height": 53
        },
        "outputId": "1346a0f6-e577-49f9-f572-98bdf4f5fec1"
      },
      "source": [
        " r=int(input('enter value of radius'))\n",
        "print('area of circle is:',(3.14*r*r))"
      ],
      "execution_count": null,
      "outputs": [
        {
          "output_type": "stream",
          "text": [
            "enter value of radius5\n",
            "area of circle is: 78.5\n"
          ],
          "name": "stdout"
        }
      ]
    },
    {
      "cell_type": "code",
      "metadata": {
        "id": "0ZZJgssughnb",
        "colab_type": "code",
        "colab": {}
      },
      "source": [
        "Question no:4 Calculate area of triangle"
      ],
      "execution_count": null,
      "outputs": []
    },
    {
      "cell_type": "code",
      "metadata": {
        "id": "IJhc7R0YgqUp",
        "colab_type": "code",
        "colab": {
          "base_uri": "https://localhost:8080/",
          "height": 35
        },
        "outputId": "acea4355-b44b-4668-ee33-faf60d5f832a"
      },
      "source": [
        " S1=2\n",
        "S2=3\n",
        "S3=3\n",
        "print('area of triangle:',(S1*S2*S3))"
      ],
      "execution_count": null,
      "outputs": [
        {
          "output_type": "stream",
          "text": [
            "area of triangle: 18\n"
          ],
          "name": "stdout"
        }
      ]
    },
    {
      "cell_type": "code",
      "metadata": {
        "id": "9-0Uc7TMguzF",
        "colab_type": "code",
        "colab": {}
      },
      "source": [
        "Question no:5 convert temperature in celsius to fahrenheit"
      ],
      "execution_count": null,
      "outputs": []
    },
    {
      "cell_type": "code",
      "metadata": {
        "id": "TJOvjgs3g4fC",
        "colab_type": "code",
        "colab": {
          "base_uri": "https://localhost:8080/",
          "height": 55
        },
        "outputId": "56efeebd-6b55-4263-ba9d-7eb991be708c"
      },
      "source": [
        " c=37\n",
        "print('temperature in fahrenheit is:',(1.68))"
      ],
      "execution_count": null,
      "outputs": [
        {
          "output_type": "stream",
          "text": [
            "temperature in fahrenheit is: 1.68\n"
          ],
          "name": "stdout"
        }
      ]
    },
    {
      "cell_type": "code",
      "metadata": {
        "id": "IcIA-frOg-PB",
        "colab_type": "code",
        "colab": {}
      },
      "source": [
        "Question no:6 calculate area of rectangle"
      ],
      "execution_count": null,
      "outputs": []
    },
    {
      "cell_type": "code",
      "metadata": {
        "id": "VnIaJbRehDW9",
        "colab_type": "code",
        "colab": {
          "base_uri": "https://localhost:8080/",
          "height": 35
        },
        "outputId": "a23a60db-f2bc-4ae0-e85a-7d7a3dd45856"
      },
      "source": [
        " l=5\n",
        "b=5\n",
        "print('area of rectangle:',(l*b))"
      ],
      "execution_count": null,
      "outputs": [
        {
          "output_type": "stream",
          "text": [
            "area of rectangle: 25\n"
          ],
          "name": "stdout"
        }
      ]
    },
    {
      "cell_type": "code",
      "metadata": {
        "id": "nXM--ni7hIee",
        "colab_type": "code",
        "colab": {}
      },
      "source": [
        "Question no:7 calculate circumference of circle"
      ],
      "execution_count": null,
      "outputs": []
    },
    {
      "cell_type": "code",
      "metadata": {
        "id": "rIcdm1uehOpp",
        "colab_type": "code",
        "colab": {
          "base_uri": "https://localhost:8080/",
          "height": 53
        },
        "outputId": "43d88f80-d077-4118-d380-89a4a2a98fad"
      },
      "source": [
        " r=int(input('value of radius:'))\n",
        "print('circumference of circle:',2*3.14*r)"
      ],
      "execution_count": null,
      "outputs": [
        {
          "output_type": "stream",
          "text": [
            "value of radius:6\n",
            "circumference of circle: 37.68\n"
          ],
          "name": "stdout"
        }
      ]
    },
    {
      "cell_type": "code",
      "metadata": {
        "id": "_dfySdADhUnt",
        "colab_type": "code",
        "colab": {}
      },
      "source": [
        "Question no:8 calculate perimeter of square"
      ],
      "execution_count": null,
      "outputs": []
    },
    {
      "cell_type": "code",
      "metadata": {
        "id": "QvNRcpkShbIl",
        "colab_type": "code",
        "colab": {
          "base_uri": "https://localhost:8080/",
          "height": 35
        },
        "outputId": "3e931746-84ad-40b7-b86d-e97b466fc5bd"
      },
      "source": [
        " Side=2\n",
        "print('perimeter of square:',(4*Side))"
      ],
      "execution_count": null,
      "outputs": [
        {
          "output_type": "stream",
          "text": [
            "perimeter of square: 8\n"
          ],
          "name": "stdout"
        }
      ]
    },
    {
      "cell_type": "code",
      "metadata": {
        "id": "b8az044mhn9Z",
        "colab_type": "code",
        "colab": {}
      },
      "source": [
        "Question no:9 swap of two numbers"
      ],
      "execution_count": null,
      "outputs": []
    },
    {
      "cell_type": "code",
      "metadata": {
        "id": "rvvwVI1AhzCh",
        "colab_type": "code",
        "colab": {
          "base_uri": "https://localhost:8080/",
          "height": 53
        },
        "outputId": "4c6176d1-ec2f-4ad2-e418-32f3730eef51"
      },
      "source": [
        " a=5\n",
        "b=10\n",
        "a=a+b\n",
        "b=a-b\n",
        "b=a-b\n",
        "print('value of a after swapping:',a)\n",
        "print('value of b after swapping:',b)"
      ],
      "execution_count": null,
      "outputs": [
        {
          "output_type": "stream",
          "text": [
            "value of a after swapping: 15\n",
            "value of b after swapping: 10\n"
          ],
          "name": "stdout"
        }
      ]
    },
    {
      "cell_type": "code",
      "metadata": {
        "id": "yezXUZoPh_jG",
        "colab_type": "code",
        "colab": {}
      },
      "source": [
        ""
      ],
      "execution_count": null,
      "outputs": []
    }
  ]
}